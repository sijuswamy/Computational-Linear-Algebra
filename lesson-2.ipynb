{
 "cells": [
  {
   "cell_type": "markdown",
   "metadata": {},
   "source": [
    "## Numpy Functions for Linear \n",
    "\n",
    "Let’s start with some basic matrix operations. Suppose we have two matrices, $A$ and $B$, and we want to add them together. In NumPy, we can do this with the simple command, $A+B$. Let’s look into the detailed computational steps."
   ]
  },
  {
   "cell_type": "markdown",
   "metadata": {},
   "source": []
  },
  {
   "cell_type": "markdown",
   "metadata": {},
   "source": [
    "### Matrix Addition"
   ]
  },
  {
   "cell_type": "code",
   "execution_count": 4,
   "metadata": {},
   "outputs": [
    {
     "name": "stdout",
     "output_type": "stream",
     "text": [
      "[[ 6  8]\n",
      " [10 12]]\n"
     ]
    }
   ],
   "source": [
    "# Addition and Subtraction\n",
    "import numpy as np\n",
    "matrix1 = np.array([[1, 2], [3, 4]])\n",
    "matrix2 = np.array([[5, 6], [7, 8]])\n",
    "print(matrix1 + matrix2) # prints [[6, 8], [10, 12]]"
   ]
  },
  {
   "cell_type": "code",
   "execution_count": 6,
   "metadata": {},
   "outputs": [
    {
     "name": "stdout",
     "output_type": "stream",
     "text": [
      "Output of the matrix operation\n",
      "\n",
      "[[46 56]\n",
      " [84 98]]\n"
     ]
    }
   ],
   "source": [
    "C=2*matrix1+5*matrix2+np.dot(matrix1,matrix2)\n",
    "print(\"Output of the matrix operation\\n\")\n",
    "print(C)"
   ]
  },
  {
   "cell_type": "markdown",
   "metadata": {},
   "source": [
    "### Matrix subtraction\n",
    "Similary, matrix difference and other matrix operations can be illustrated as follows.\n",
    "\n"
   ]
  },
  {
   "cell_type": "code",
   "execution_count": 7,
   "metadata": {},
   "outputs": [
    {
     "name": "stdout",
     "output_type": "stream",
     "text": [
      "[[-4 -4]\n",
      " [-4 -4]]\n"
     ]
    }
   ],
   "source": [
    "print(matrix1 - matrix2) # prints [[-4, -4], [-4, -4]]"
   ]
  },
  {
   "cell_type": "markdown",
   "metadata": {},
   "source": [
    ">**Tasks:**\n",
    "\n",
    "1. Evaluate `M=5 matrix1-7 matrix2`\n",
    "2. Evaluate `M2=5 matrix1-7I`"
   ]
  },
  {
   "cell_type": "markdown",
   "metadata": {},
   "source": []
  },
  {
   "cell_type": "code",
   "execution_count": 14,
   "metadata": {},
   "outputs": [
    {
     "name": "stdout",
     "output_type": "stream",
     "text": [
      "M\n",
      ": [[-30 -32]\n",
      " [-34 -36]]\n",
      "\n",
      "M2 [[-2. 10.]\n",
      " [15. 13.]]\n"
     ]
    }
   ],
   "source": [
    "M=5*matrix1-7*matrix2\n",
    "M2=5*matrix1-7*np.eye(2)\n",
    "print(\"M\\n:\",M)\n",
    "print(\"\\nM2\",M2)"
   ]
  },
  {
   "cell_type": "markdown",
   "metadata": {},
   "source": [
    "### Scalar Multiplication"
   ]
  },
  {
   "cell_type": "code",
   "execution_count": 15,
   "metadata": {},
   "outputs": [
    {
     "name": "stdout",
     "output_type": "stream",
     "text": [
      "[[2 4]\n",
      " [6 8]]\n"
     ]
    }
   ],
   "source": [
    "# Scalar Multiplication\n",
    "matrix = np.array([[1, 2], [3, 4]])\n",
    "print(2 * matrix) # prints [[2, 4], [6, 8]]"
   ]
  },
  {
   "cell_type": "markdown",
   "metadata": {},
   "source": [
    ">**Task:1**\n",
    "\n",
    "1. Create a random $5\\times 5$ matrix and find $T_1=5A-3I$."
   ]
  },
  {
   "cell_type": "code",
   "execution_count": null,
   "metadata": {},
   "outputs": [],
   "source": []
  },
  {
   "cell_type": "code",
   "execution_count": null,
   "metadata": {},
   "outputs": [],
   "source": []
  },
  {
   "cell_type": "code",
   "execution_count": 18,
   "metadata": {},
   "outputs": [
    {
     "name": "stdout",
     "output_type": "stream",
     "text": [
      "[[ 2. 10. 15. 20. 25.]\n",
      " [10. 12. 20. 25. 30.]\n",
      " [10. 15. 17. 25. 30.]\n",
      " [10. 15. 20. 22. 30.]\n",
      " [10. 15. 20. 25. 27.]]\n"
     ]
    }
   ],
   "source": [
    "A=np.array([[1,2,3 ,4, 5],[2,3,4,5,6],[2,3,4,5,6],[2,3,4,5,6],[2,3,4,5,6]])\n",
    "T1=5*A-3*np.eye(5)\n",
    "print(T1)"
   ]
  },
  {
   "cell_type": "markdown",
   "metadata": {
    "vscode": {
     "languageId": "latex"
    }
   },
   "source": [
    "### Matrix Multiplication\n"
   ]
  },
  {
   "cell_type": "code",
   "execution_count": 19,
   "metadata": {},
   "outputs": [
    {
     "name": "stdout",
     "output_type": "stream",
     "text": [
      "[[19 22]\n",
      " [43 50]]\n"
     ]
    }
   ],
   "source": [
    "# Matrix Multiplication\n",
    "matrix1 = np.array([[1, 2], [3, 4]])\n",
    "matrix2 = np.array([[5, 6], [7, 8]])\n",
    "print(np.dot(matrix1, matrix2)) # prints [[19, 22], [43, 50]]"
   ]
  },
  {
   "cell_type": "markdown",
   "metadata": {},
   "source": [
    ":::{.callout-note}\n",
    "## Note:\n",
    "\n",
    "Norm: The norm of a vector is a scalar that represents the “length” of the vector. In NumPy, we can compute the norm using the numpy.linalg.norm function. The inner product of two vectors is a matrix that is computed by multiplying the first vector by the transpose of the second vector. In NumPy, we can compute the inner product using the numpy.inner function.\n",
    "\n",
    ":::"
   ]
  },
  {
   "cell_type": "markdown",
   "metadata": {},
   "source": []
  },
  {
   "cell_type": "code",
   "execution_count": 20,
   "metadata": {},
   "outputs": [
    {
     "name": "stdout",
     "output_type": "stream",
     "text": [
      "3.7416573867739413\n"
     ]
    }
   ],
   "source": [
    "# finding norm\n",
    "vector = np.array([1, 2, 3])\n",
    "print(np.linalg.norm(vector)) # prints 3.74165738677"
   ]
  }
 ],
 "metadata": {
  "kernelspec": {
   "display_name": "Python 3",
   "language": "python",
   "name": "python3"
  },
  "language_info": {
   "codemirror_mode": {
    "name": "ipython",
    "version": 3
   },
   "file_extension": ".py",
   "mimetype": "text/x-python",
   "name": "python",
   "nbconvert_exporter": "python",
   "pygments_lexer": "ipython3",
   "version": "3.12.5"
  }
 },
 "nbformat": 4,
 "nbformat_minor": 2
}
