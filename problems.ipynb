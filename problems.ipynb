{
 "cells": [
  {
   "cell_type": "code",
   "execution_count": null,
   "metadata": {},
   "outputs": [],
   "source": []
  },
  {
   "cell_type": "markdown",
   "metadata": {},
   "source": [
    "## Python code to create fundamental subspaces"
   ]
  },
  {
   "cell_type": "code",
   "execution_count": 6,
   "metadata": {},
   "outputs": [],
   "source": [
    "import numpy as np"
   ]
  },
  {
   "cell_type": "code",
   "execution_count": 2,
   "metadata": {},
   "outputs": [],
   "source": [
    "# define the function create the row-reduced Echelon form of given matrix\n",
    "def row_echelon_form(A):\n",
    "    \"\"\"Convert matrix A to its row echelon form.\"\"\"\n",
    "    A = A.astype(float)\n",
    "    rows, cols = A.shape\n",
    "    for i in range(min(rows, cols)):\n",
    "        # Pivot: find the maximum element in the current column\n",
    "        max_row = np.argmax(np.abs(A[i:, i])) + i\n",
    "        if A[max_row, i] == 0:\n",
    "            continue  # Skip if the column is zero\n",
    "        # Swap the current row with the max_row\n",
    "        A[[i, max_row]] = A[[max_row, i]]\n",
    "        # Eliminate entries below the pivot\n",
    "        for j in range(i + 1, rows):\n",
    "            factor = A[j, i] / A[i, i]\n",
    "            A[j, i:] -= factor * A[i, i:]\n",
    "    return A\n"
   ]
  },
  {
   "cell_type": "markdown",
   "metadata": {},
   "source": [
    "## Function to create null space"
   ]
  },
  {
   "cell_type": "code",
   "execution_count": 3,
   "metadata": {},
   "outputs": [],
   "source": [
    "# define function to generate null space from the row-reduced echelon form\n",
    "def null_space_of_matrix(A, rtol=1e-5):\n",
    "    \"\"\"Compute the null space of a matrix A using row reduction.\"\"\"\n",
    "    A_reduced = row_echelon_form(A)\n",
    "    rows, cols = A_reduced.shape\n",
    "    # Identify pivot columns\n",
    "    pivots = []\n",
    "    for i in range(rows):\n",
    "        for j in range(cols):\n",
    "            if np.abs(A_reduced[i, j]) > rtol:\n",
    "                pivots.append(j)\n",
    "                break\n",
    "    free_vars = set(range(cols)) - set(pivots)\n",
    "    \n",
    "    null_space = []\n",
    "    for free_var in free_vars:\n",
    "        null_vector = np.zeros(cols)\n",
    "        null_vector[free_var] = 1\n",
    "        for pivot, row in zip(pivots, A_reduced[:len(pivots)]):\n",
    "            null_vector[pivot] = -row[free_var]\n",
    "        null_space.append(null_vector)\n",
    "    \n",
    "    return np.array(null_space).T\n"
   ]
  },
  {
   "cell_type": "markdown",
   "metadata": {},
   "source": [
    "## Function to create row space"
   ]
  },
  {
   "cell_type": "code",
   "execution_count": 4,
   "metadata": {},
   "outputs": [],
   "source": [
    "# define the function to generate the row-space of A\n",
    "\n",
    "def row_space_of_matrix(A):\n",
    "    \"\"\"Compute the row space of a matrix A using row reduction.\"\"\"\n",
    "    A_reduced = row_echelon_form(A)\n",
    "    # The non-zero rows of the reduced matrix form the row space\n",
    "    non_zero_rows = A_reduced[~np.all(A_reduced == 0, axis=1)]\n",
    "    return non_zero_rows\n"
   ]
  },
  {
   "cell_type": "code",
   "execution_count": 8,
   "metadata": {},
   "outputs": [],
   "source": [
    "# define the function to generate the column space of A\n",
    "\n",
    "def column_space_of_matrix(A):\n",
    "    \"\"\"Compute the column space of a matrix A using row reduction.\"\"\"\n",
    "    A_reduced = row_echelon_form(A)\n",
    "    rows, cols = A_reduced.shape\n",
    "    # Identify pivot columns\n",
    "    pivots = []\n",
    "    for i in range(rows):\n",
    "        for j in range(cols):\n",
    "            if np.abs(A_reduced[i, j]) > 1e-5:\n",
    "                pivots.append(j)\n",
    "                break\n",
    "    column_space = A[:, pivots]\n",
    "    return column_space"
   ]
  },
  {
   "cell_type": "markdown",
   "metadata": {},
   "source": [
    "1. Find all the fundamental subspaces of $A=\\begin{pmatrix}1&2&3\\\\ 4&5&6\\\\7&8&9\\end{pmatrix}$"
   ]
  },
  {
   "cell_type": "code",
   "execution_count": 9,
   "metadata": {},
   "outputs": [
    {
     "name": "stdout",
     "output_type": "stream",
     "text": [
      "Matrix A:\n",
      "[[1 2 3]\n",
      " [4 5 6]\n",
      " [7 8 9]]\n",
      "\n",
      "Null Space of A:\n",
      "[[-9.        ]\n",
      " [-1.71428571]\n",
      " [ 1.        ]]\n",
      "\n",
      "Row Space of A:\n",
      "[[7.00000000e+00 8.00000000e+00 9.00000000e+00]\n",
      " [0.00000000e+00 8.57142857e-01 1.71428571e+00]\n",
      " [0.00000000e+00 5.55111512e-17 1.11022302e-16]]\n",
      "\n",
      "Column Space of A:\n",
      "[[1 2]\n",
      " [4 5]\n",
      " [7 8]]\n"
     ]
    }
   ],
   "source": [
    "A = np.array([[1, 2, 3],\n",
    "              [4, 5, 6],\n",
    "              [7, 8, 9]])\n",
    "\n",
    "print(\"Matrix A:\")\n",
    "print(A)\n",
    "\n",
    "# Null Space\n",
    "null_space_A = null_space_of_matrix(A)\n",
    "print(\"\\nNull Space of A:\")\n",
    "print(null_space_A)\n",
    "\n",
    "# Row Space\n",
    "row_space_A = row_space_of_matrix(A)\n",
    "print(\"\\nRow Space of A:\")\n",
    "print(row_space_A)\n",
    "\n",
    "# Column Space\n",
    "column_space_A = column_space_of_matrix(A)\n",
    "print(\"\\nColumn Space of A:\")\n",
    "print(column_space_A)"
   ]
  }
 ],
 "metadata": {
  "kernelspec": {
   "display_name": "Python 3",
   "language": "python",
   "name": "python3"
  },
  "language_info": {
   "codemirror_mode": {
    "name": "ipython",
    "version": 3
   },
   "file_extension": ".py",
   "mimetype": "text/x-python",
   "name": "python",
   "nbconvert_exporter": "python",
   "pygments_lexer": "ipython3",
   "version": "3.12.5"
  }
 },
 "nbformat": 4,
 "nbformat_minor": 2
}
